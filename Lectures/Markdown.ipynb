{
 "cells": [
  {
   "cell_type": "markdown",
   "id": "e02a1b25-bc35-4cbe-938e-46cec1d22d16",
   "metadata": {},
   "source": [
    "# Markdown language\n",
    "\n",
    "* plain and easy, like writing a document. \n",
    "* uses html syntax, like writing a webpage. But many times, have shortcuts and no need to use html syntax. \n",
    "* uses latex for math formulas and equations. \n",
    "* [Markdown cheatsheet](https://www.markdownguide.org/cheat-sheet/)\n",
    "* Here's [another Markdown cheatsheet](https://github.com/adam-p/markdown-here/wiki/Markdown-Cheatsheet)"
   ]
  },
  {
   "cell_type": "code",
   "execution_count": null,
   "id": "ec811897-338f-46ab-8519-0505c70ada14",
   "metadata": {},
   "outputs": [],
   "source": []
  }
 ],
 "metadata": {
  "kernelspec": {
   "display_name": "Python 3 (ipykernel)",
   "language": "python",
   "name": "python3"
  },
  "language_info": {
   "codemirror_mode": {
    "name": "ipython",
    "version": 3
   },
   "file_extension": ".py",
   "mimetype": "text/x-python",
   "name": "python",
   "nbconvert_exporter": "python",
   "pygments_lexer": "ipython3",
   "version": "3.7.2"
  }
 },
 "nbformat": 4,
 "nbformat_minor": 5
}
