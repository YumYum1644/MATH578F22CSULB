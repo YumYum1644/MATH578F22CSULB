{
 "cells": [
  {
   "cell_type": "markdown",
   "id": "b0948ed2-da69-4563-abf4-fc3ec743715e",
   "metadata": {},
   "source": [
    "# Lecture Note 1. \n"
   ]
  },
  {
   "cell_type": "markdown",
   "id": "a4eba8ed-8222-4ecb-8282-078383fabb52",
   "metadata": {},
   "source": [
    "## Scalars:\n",
    "* integer\n",
    "* float \n",
    "* complex number\n",
    "* boolean\n",
    "* string\n",
    "* bytes"
   ]
  },
  {
   "cell_type": "code",
   "execution_count": 3,
   "id": "eb8cf1e6-b92c-4ed7-8b88-4d58c8085bdf",
   "metadata": {},
   "outputs": [],
   "source": [
    "i = 42\n",
    "g = 3.14\n",
    "b = True\n",
    "s = \"Hello!\"\n",
    "q = b'Hello'"
   ]
  },
  {
   "cell_type": "markdown",
   "id": "95fec429-beb8-448b-bdb1-ae09664e0915",
   "metadata": {},
   "source": [
    "## Collections\n",
    "* list\n",
    "* set\n",
    "* dictionary"
   ]
  },
  {
   "cell_type": "code",
   "execution_count": 29,
   "id": "c98db6c8-83de-4d59-a170-05b7ae1b0d71",
   "metadata": {},
   "outputs": [
    {
     "name": "stdout",
     "output_type": "stream",
     "text": [
      "[1, True, 3]\n",
      "('apple', 'banana', 'cherry', 'apple')\n",
      "{'apple', 'banana', 'cherry'}\n"
     ]
    }
   ],
   "source": [
    "l = [1, 2, 3]       # list\n",
    "l[1]                # lists are indexed by int\n",
    "l[1] = True         # list elements can be of any type\n",
    "d = {\"Jane\": 123, \"Richar\": 456}      # dictionary\n",
    "d[\"Jane\"]\n",
    "t = (\"apple\",\"banana\",\"cherry\",\"apple\")\n",
    "s = set((\"apple\",\"banana\",\"cherry\",\"apple\"))\n",
    "print(l)\n",
    "print(t)\n",
    "print(s)"
   ]
  },
  {
   "cell_type": "markdown",
   "id": "3b46fb70-6006-48b7-a2e8-5b8f3221b045",
   "metadata": {},
   "source": [
    "## Control Structures\n",
    "* if statement\n",
    "* while loops\n",
    "* for loops\n",
    "* range() function\n",
    "* enuerate() function"
   ]
  },
  {
   "cell_type": "code",
   "execution_count": 12,
   "id": "0ce09413-e16a-494b-bc9c-4dabe192677f",
   "metadata": {},
   "outputs": [
    {
     "name": "stdout",
     "output_type": "stream",
     "text": [
      "2\n",
      "0\n"
     ]
    }
   ],
   "source": [
    "x = 2\n",
    "print(x)\n",
    "if x%3 == 1:\n",
    "    x = 2*x+1\n",
    "    print(x)\n",
    "elif x%3 ==2:\n",
    "    x = x-2\n",
    "    print(x)\n",
    "else:\n",
    "    print(x)"
   ]
  },
  {
   "cell_type": "code",
   "execution_count": 14,
   "id": "e499113a-2368-421e-9b75-9e47df5818cd",
   "metadata": {},
   "outputs": [
    {
     "name": "stdout",
     "output_type": "stream",
     "text": [
      "2\n",
      "12\n",
      "182\n"
     ]
    }
   ],
   "source": [
    "while x<42:\n",
    "    x = (x+2)*(x+1)\n",
    "    print(x)"
   ]
  },
  {
   "cell_type": "code",
   "execution_count": 18,
   "id": "95143b02-0106-4fb0-b297-0a43ca1fa3c7",
   "metadata": {},
   "outputs": [
    {
     "name": "stdout",
     "output_type": "stream",
     "text": [
      "apple\n",
      "banana\n",
      "cherry\n",
      "apple\n"
     ]
    }
   ],
   "source": [
    "for x in range(len(t)):\n",
    "    print(t[x])"
   ]
  },
  {
   "cell_type": "code",
   "execution_count": 20,
   "id": "5d658600-497a-4360-9620-ceebef2ee1bf",
   "metadata": {},
   "outputs": [
    {
     "name": "stdout",
     "output_type": "stream",
     "text": [
      "0 apple\n",
      "1 banana\n",
      "2 cherry\n"
     ]
    }
   ],
   "source": [
    "for i, x in enumerate(s):\n",
    "    print(i, x)"
   ]
  },
  {
   "cell_type": "code",
   "execution_count": 28,
   "id": "9186db5d-3ac8-4dc6-b519-ea1910240f41",
   "metadata": {},
   "outputs": [
    {
     "name": "stdout",
     "output_type": "stream",
     "text": [
      "Jane 123\n",
      "Richar 456\n"
     ]
    }
   ],
   "source": [
    "for k, v in d.items():\n",
    "    print(k, v)"
   ]
  },
  {
   "cell_type": "raw",
   "id": "3c8a53de-c46d-4ef4-b55a-c740b910bf18",
   "metadata": {},
   "source": [
    "## List Comprehensions"
   ]
  },
  {
   "cell_type": "code",
   "execution_count": 3,
   "id": "e167c909-6995-4558-bd71-07e35075c480",
   "metadata": {},
   "outputs": [],
   "source": [
    "squares = []\n",
    "for x in range(10):\n",
    "    squares.append(x**2)"
   ]
  },
  {
   "cell_type": "code",
   "execution_count": 4,
   "id": "c8fbee23-3787-4360-abdc-f318a3d2dcae",
   "metadata": {},
   "outputs": [
    {
     "name": "stdout",
     "output_type": "stream",
     "text": [
      "[0, 1, 4, 9, 16, 25, 36, 49, 64, 81]\n"
     ]
    }
   ],
   "source": [
    "print(squares)"
   ]
  },
  {
   "cell_type": "code",
   "execution_count": 5,
   "id": "176c0734-97c0-4a75-94ee-c74e6fb4fcf4",
   "metadata": {},
   "outputs": [],
   "source": [
    "combs = []\n",
    "a = [1, 2, 3]\n",
    "b = [4, 5, 6, 2]\n",
    "for i in a:\n",
    "    for j in b:\n",
    "        if i != j:\n",
    "            combs.append((i, j))"
   ]
  },
  {
   "cell_type": "code",
   "execution_count": 6,
   "id": "8373f1eb-876c-451d-9137-0ebd6d15779f",
   "metadata": {},
   "outputs": [
    {
     "name": "stdout",
     "output_type": "stream",
     "text": [
      "[(1, 4), (1, 5), (1, 6), (1, 2), (2, 4), (2, 5), (2, 6), (3, 4), (3, 5), (3, 6), (3, 2)]\n"
     ]
    }
   ],
   "source": [
    "print(combs)"
   ]
  },
  {
   "cell_type": "code",
   "execution_count": 7,
   "id": "6a278e99-008c-4f33-9f28-b99365fec441",
   "metadata": {},
   "outputs": [
    {
     "data": {
      "text/plain": [
       "[(1, 4),\n",
       " (1, 5),\n",
       " (1, 6),\n",
       " (1, 2),\n",
       " (2, 4),\n",
       " (2, 5),\n",
       " (2, 6),\n",
       " (3, 4),\n",
       " (3, 5),\n",
       " (3, 6),\n",
       " (3, 2)]"
      ]
     },
     "execution_count": 7,
     "metadata": {},
     "output_type": "execute_result"
    }
   ],
   "source": [
    "[(i,j) for i in a for j in b if i != j]"
   ]
  },
  {
   "cell_type": "markdown",
   "id": "cbd43b64-b2ae-4f48-adab-801beaba2040",
   "metadata": {},
   "source": [
    "## More on the topics of list comprehension, set, tuples, dictionary, dict comprehensions\n",
    "\n",
    "https://docs.python.org/3/tutorial/datastructures.html"
   ]
  },
  {
   "cell_type": "markdown",
   "id": "41928527-5710-4341-9ee7-441cdf69a675",
   "metadata": {},
   "source": [
    "## Functions, lambda functions, maps, and filters"
   ]
  },
  {
   "cell_type": "code",
   "execution_count": null,
   "id": "ccae92b3-42cc-4e70-b345-9c7ced3f54ba",
   "metadata": {},
   "outputs": [],
   "source": []
  }
 ],
 "metadata": {
  "kernelspec": {
   "display_name": "Python 3 (ipykernel)",
   "language": "python",
   "name": "python3"
  },
  "language_info": {
   "codemirror_mode": {
    "name": "ipython",
    "version": 3
   },
   "file_extension": ".py",
   "mimetype": "text/x-python",
   "name": "python",
   "nbconvert_exporter": "python",
   "pygments_lexer": "ipython3",
   "version": "3.7.2"
  }
 },
 "nbformat": 4,
 "nbformat_minor": 5
}
